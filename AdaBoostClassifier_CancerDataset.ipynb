{
 "cells": [
  {
   "cell_type": "code",
   "execution_count": null,
   "id": "ba2a69cd",
   "metadata": {},
   "outputs": [],
   "source": [
    "#Importing required libraries and packages\n",
    "from sklearn.datasets import load_breast_cancer \n",
    "from sklearn.model_selection import train_test_split\n",
    "from sklearn.metrics import accuracy_score\n",
    "from sklearn.ensemble import AdaBoostClassifier\n",
    "import matplotlib.pyplot as plt\n",
    "import pandas as pd\n",
    "import seaborn as sns\n",
    "import numpy as np\n",
    "import scipy as sp\n",
    "import warnings\n",
    "import os \n",
    "warnings.filterwarnings(\"ignore\")\n",
    "import datetime"
   ]
  },
  {
   "cell_type": "code",
   "execution_count": 3,
   "id": "d70efada",
   "metadata": {},
   "outputs": [],
   "source": [
    "#Converting Scikit Datasets to Pandas Datasets\n",
    "df = load_breast_cancer()\n",
    "dataset=pd.concat([pd.DataFrame(df.data,columns=df.feature_names),pd.Series(df.target,name=\"target\")],axis=1)"
   ]
  },
  {
   "cell_type": "code",
   "execution_count": null,
   "id": "7bb94f02",
   "metadata": {
    "scrolled": true
   },
   "outputs": [],
   "source": [
    "#Displaying first 5 rows \n",
    "dataset.head()"
   ]
  },
  {
   "cell_type": "code",
   "execution_count": null,
   "id": "c2f30b00",
   "metadata": {},
   "outputs": [],
   "source": [
    "#Description of Dataset\n",
    "dataset.describe()"
   ]
  },
  {
   "cell_type": "code",
   "execution_count": null,
   "id": "65169f4b",
   "metadata": {},
   "outputs": [],
   "source": [
    "#Shape\n",
    "dataset.shape"
   ]
  },
  {
   "cell_type": "code",
   "execution_count": null,
   "id": "6c5a07dd",
   "metadata": {},
   "outputs": [],
   "source": [
    "#Generating Correlation Plot\n",
    "dataset.corr()"
   ]
  },
  {
   "cell_type": "code",
   "execution_count": null,
   "id": "25d0839c",
   "metadata": {},
   "outputs": [],
   "source": [
    "#Visualizaing heatmap of the breast cancer dataset\n",
    "plt.figure(figsize=(20, 17))\n",
    "matrix = np.triu(dataset.corr())\n",
    "sns.heatmap(dataset.corr(), annot=True, linewidth=.8, mask=matrix, cmap=\"rocket\");"
   ]
  },
  {
   "cell_type": "code",
   "execution_count": 12,
   "id": "e5f34959",
   "metadata": {},
   "outputs": [],
   "source": [
    "# Organizing our data\n",
    "label_names = df['target_names']\n",
    "labels = df['target']\n",
    "feature_names = df['feature_names']\n",
    "features = df['data']"
   ]
  },
  {
   "cell_type": "code",
   "execution_count": null,
   "id": "7505dd2e",
   "metadata": {
    "scrolled": true
   },
   "outputs": [],
   "source": [
    "# Viewing our data\n",
    "print(label_names)\n",
    "print('Class label = ', labels[0])\n",
    "print(feature_names[0])\n",
    "print(features[0])"
   ]
  },
  {
   "cell_type": "code",
   "execution_count": 38,
   "id": "16683262",
   "metadata": {},
   "outputs": [],
   "source": [
    "# Splitting our data\n",
    "train, test, train_labels, test_labels = train_test_split(features, labels,\n",
    "test_size=0.30,\n",
    "random_state=42)"
   ]
  },
  {
   "cell_type": "code",
   "execution_count": 39,
   "id": "6ec9ced3",
   "metadata": {},
   "outputs": [],
   "source": [
    "# Initializing our classifier with AdaBoostClassifier\n",
    "adb = AdaBoostClassifier(base_estimator = None)"
   ]
  },
  {
   "cell_type": "code",
   "execution_count": 45,
   "id": "f34ba70c",
   "metadata": {},
   "outputs": [
    {
     "name": "stdout",
     "output_type": "stream",
     "text": [
      "AdaBoostClassifier()\n"
     ]
    }
   ],
   "source": [
    "# Training our classifier\n",
    "model = adb.fit(train, train_labels)\n",
    "print(model)"
   ]
  },
  {
   "cell_type": "code",
   "execution_count": null,
   "id": "0e48fac3",
   "metadata": {},
   "outputs": [],
   "source": [
    "# Making predictions\n",
    "preds = adb.predict(test)\n",
    "print(preds)"
   ]
  },
  {
   "cell_type": "code",
   "execution_count": 48,
   "id": "2f1f8a1a",
   "metadata": {},
   "outputs": [
    {
     "name": "stdout",
     "output_type": "stream",
     "text": [
      "97.6608187134503\n"
     ]
    }
   ],
   "source": [
    "# Evaluating accuracy\n",
    "print(accuracy_score(test_labels, preds)*100)"
   ]
  },
  {
   "cell_type": "code",
   "execution_count": null,
   "id": "0ab4594b",
   "metadata": {},
   "outputs": [],
   "source": []
  }
 ],
 "metadata": {
  "kernelspec": {
   "display_name": "Python 3",
   "language": "python",
   "name": "python3"
  },
  "language_info": {
   "codemirror_mode": {
    "name": "ipython",
    "version": 3
   },
   "file_extension": ".py",
   "mimetype": "text/x-python",
   "name": "python",
   "nbconvert_exporter": "python",
   "pygments_lexer": "ipython3",
   "version": "3.8.8"
  }
 },
 "nbformat": 4,
 "nbformat_minor": 5
}
